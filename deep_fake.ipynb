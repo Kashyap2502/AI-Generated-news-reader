{
 "cells": [
  {
   "cell_type": "code",
   "execution_count": 1,
   "id": "0508f095",
   "metadata": {},
   "outputs": [
    {
     "name": "stderr",
     "output_type": "stream",
     "text": [
      "fatal: destination path 'SimSwap' already exists and is not an empty directory.\n"
     ]
    }
   ],
   "source": [
    "!git clone https://github.com/neuralchen/SimSwap"
   ]
  },
  {
   "cell_type": "code",
   "execution_count": 2,
   "id": "2c37c763",
   "metadata": {},
   "outputs": [
    {
     "name": "stdout",
     "output_type": "stream",
     "text": [
      "Requirement already satisfied: insightface==0.2.1 in c:\\users\\kashy\\anaconda3\\lib\\site-packages (0.2.1)\n",
      "Requirement already satisfied: moviepy in c:\\users\\kashy\\anaconda3\\lib\\site-packages (1.0.3)\n",
      "Requirement already satisfied: onnxruntime-gpu==1.9.0 in c:\\users\\kashy\\anaconda3\\lib\\site-packages (1.9.0)\n",
      "Requirement already satisfied: onnx in c:\\users\\kashy\\anaconda3\\lib\\site-packages (from insightface==0.2.1) (1.13.1)\n",
      "Requirement already satisfied: numpy in c:\\users\\kashy\\appdata\\roaming\\python\\python39\\site-packages (from insightface==0.2.1) (1.22.4)\n",
      "Requirement already satisfied: scikit-learn in c:\\users\\kashy\\appdata\\roaming\\python\\python39\\site-packages (from insightface==0.2.1) (1.2.2)\n",
      "Requirement already satisfied: tqdm in c:\\users\\kashy\\appdata\\roaming\\python\\python39\\site-packages (from insightface==0.2.1) (4.64.0)\n",
      "Requirement already satisfied: requests in c:\\users\\kashy\\appdata\\roaming\\python\\python39\\site-packages (from insightface==0.2.1) (2.28.0)\n",
      "Requirement already satisfied: scipy in c:\\users\\kashy\\appdata\\roaming\\python\\python39\\site-packages (from insightface==0.2.1) (1.7.3)\n",
      "Requirement already satisfied: matplotlib in c:\\users\\kashy\\appdata\\roaming\\python\\python39\\site-packages (from insightface==0.2.1) (3.5.0)\n",
      "Requirement already satisfied: Pillow in c:\\users\\kashy\\appdata\\roaming\\python\\python39\\site-packages (from insightface==0.2.1) (9.3.0)\n",
      "Requirement already satisfied: scikit-image in c:\\users\\kashy\\appdata\\roaming\\python\\python39\\site-packages (from insightface==0.2.1) (0.19.3)\n",
      "Requirement already satisfied: easydict in c:\\users\\kashy\\anaconda3\\lib\\site-packages (from insightface==0.2.1) (1.10)\n",
      "Requirement already satisfied: opencv-python in c:\\users\\kashy\\appdata\\roaming\\python\\python39\\site-packages (from insightface==0.2.1) (4.6.0.66)\n",
      "Requirement already satisfied: protobuf in c:\\users\\kashy\\appdata\\roaming\\python\\python39\\site-packages (from onnxruntime-gpu==1.9.0) (3.20.3)\n",
      "Requirement already satisfied: flatbuffers in c:\\users\\kashy\\appdata\\roaming\\python\\python39\\site-packages (from onnxruntime-gpu==1.9.0) (1.12)\n",
      "Requirement already satisfied: imageio-ffmpeg>=0.2.0 in c:\\users\\kashy\\anaconda3\\lib\\site-packages (from moviepy) (0.4.8)\n",
      "Requirement already satisfied: imageio<3.0,>=2.5 in c:\\users\\kashy\\appdata\\roaming\\python\\python39\\site-packages (from moviepy) (2.19.5)\n",
      "Requirement already satisfied: proglog<=1.0.0 in c:\\users\\kashy\\anaconda3\\lib\\site-packages (from moviepy) (0.1.10)\n",
      "Collecting decorator<5.0,>=4.0.2\n",
      "  Using cached decorator-4.4.2-py2.py3-none-any.whl (9.2 kB)\n",
      "Requirement already satisfied: idna<4,>=2.5 in c:\\users\\kashy\\appdata\\roaming\\python\\python39\\site-packages (from requests->insightface==0.2.1) (3.3)\n",
      "Requirement already satisfied: certifi>=2017.4.17 in c:\\users\\kashy\\appdata\\roaming\\python\\python39\\site-packages (from requests->insightface==0.2.1) (2022.6.15)\n",
      "Requirement already satisfied: urllib3<1.27,>=1.21.1 in c:\\users\\kashy\\appdata\\roaming\\python\\python39\\site-packages (from requests->insightface==0.2.1) (1.26.9)\n",
      "Requirement already satisfied: charset-normalizer~=2.0.0 in c:\\users\\kashy\\appdata\\roaming\\python\\python39\\site-packages (from requests->insightface==0.2.1) (2.0.12)\n",
      "Requirement already satisfied: colorama in c:\\users\\kashy\\appdata\\roaming\\python\\python39\\site-packages (from tqdm->insightface==0.2.1) (0.4.6)\n",
      "Requirement already satisfied: setuptools-scm>=4 in c:\\users\\kashy\\appdata\\roaming\\python\\python39\\site-packages (from matplotlib->insightface==0.2.1) (6.3.2)\n",
      "Requirement already satisfied: packaging>=20.0 in c:\\users\\kashy\\appdata\\roaming\\python\\python39\\site-packages (from matplotlib->insightface==0.2.1) (21.3)\n",
      "Requirement already satisfied: python-dateutil>=2.7 in c:\\users\\kashy\\appdata\\roaming\\python\\python39\\site-packages (from matplotlib->insightface==0.2.1) (2.8.2)\n",
      "Requirement already satisfied: fonttools>=4.22.0 in c:\\users\\kashy\\appdata\\roaming\\python\\python39\\site-packages (from matplotlib->insightface==0.2.1) (4.28.3)\n",
      "Requirement already satisfied: pyparsing>=2.2.1 in c:\\users\\kashy\\appdata\\roaming\\python\\python39\\site-packages (from matplotlib->insightface==0.2.1) (3.0.6)\n",
      "Requirement already satisfied: cycler>=0.10 in c:\\users\\kashy\\appdata\\roaming\\python\\python39\\site-packages (from matplotlib->insightface==0.2.1) (0.11.0)\n",
      "Requirement already satisfied: kiwisolver>=1.0.1 in c:\\users\\kashy\\appdata\\roaming\\python\\python39\\site-packages (from matplotlib->insightface==0.2.1) (1.3.2)\n",
      "Requirement already satisfied: typing-extensions>=3.6.2.1 in c:\\users\\kashy\\appdata\\roaming\\python\\python39\\site-packages (from onnx->insightface==0.2.1) (4.4.0)\n",
      "Requirement already satisfied: PyWavelets>=1.1.1 in c:\\users\\kashy\\appdata\\roaming\\python\\python39\\site-packages (from scikit-image->insightface==0.2.1) (1.3.0)\n",
      "Requirement already satisfied: tifffile>=2019.7.26 in c:\\users\\kashy\\appdata\\roaming\\python\\python39\\site-packages (from scikit-image->insightface==0.2.1) (2022.5.4)\n",
      "Requirement already satisfied: networkx>=2.2 in c:\\users\\kashy\\appdata\\roaming\\python\\python39\\site-packages (from scikit-image->insightface==0.2.1) (2.6.3)\n",
      "Requirement already satisfied: threadpoolctl>=2.0.0 in c:\\users\\kashy\\appdata\\roaming\\python\\python39\\site-packages (from scikit-learn->insightface==0.2.1) (3.1.0)\n",
      "Requirement already satisfied: joblib>=1.1.1 in c:\\users\\kashy\\appdata\\roaming\\python\\python39\\site-packages (from scikit-learn->insightface==0.2.1) (1.2.0)\n",
      "Requirement already satisfied: six>=1.5 in c:\\users\\kashy\\appdata\\roaming\\python\\python39\\site-packages (from python-dateutil>=2.7->matplotlib->insightface==0.2.1) (1.15.0)\n",
      "Requirement already satisfied: setuptools in c:\\users\\kashy\\appdata\\roaming\\python\\python39\\site-packages (from setuptools-scm>=4->matplotlib->insightface==0.2.1) (65.3.0)\n",
      "Requirement already satisfied: tomli>=1.0.0 in c:\\users\\kashy\\appdata\\roaming\\python\\python39\\site-packages (from setuptools-scm>=4->matplotlib->insightface==0.2.1) (1.2.2)\n",
      "Installing collected packages: decorator\n",
      "  Attempting uninstall: decorator\n",
      "    Found existing installation: decorator 5.1.1\n",
      "    Uninstalling decorator-5.1.1:\n",
      "      Successfully uninstalled decorator-5.1.1\n",
      "Successfully installed decorator-5.1.1\n"
     ]
    },
    {
     "name": "stderr",
     "output_type": "stream",
     "text": [
      "WARNING: Ignoring invalid distribution -illow (c:\\users\\kashy\\appdata\\roaming\\python\\python39\\site-packages)\n",
      "WARNING: Ignoring invalid distribution -illow (c:\\users\\kashy\\appdata\\roaming\\python\\python39\\site-packages)\n",
      "WARNING: Ignoring invalid distribution -illow (c:\\users\\kashy\\appdata\\roaming\\python\\python39\\site-packages)\n",
      "    WARNING: Ignoring invalid distribution -illow (c:\\users\\kashy\\appdata\\roaming\\python\\python39\\site-packages)\n",
      "ERROR: pip's dependency resolver does not currently take into account all the packages that are installed. This behaviour is the source of the following dependency conflicts.\n",
      "spyder 5.1.5 requires pyqtwebengine<5.13, which is not installed.\n",
      "spyder 5.1.5 requires pyqt5<5.13, but you have pyqt5 5.15.7 which is incompatible.\n",
      "spyder-kernels 2.1.3 requires jupyter-client<7,>=5.3.4, but you have jupyter-client 7.3.4 which is incompatible.\n",
      "WARNING: Ignoring invalid distribution -illow (c:\\users\\kashy\\appdata\\roaming\\python\\python39\\site-packages)\n",
      "WARNING: Ignoring invalid distribution -illow (c:\\users\\kashy\\appdata\\roaming\\python\\python39\\site-packages)\n",
      "WARNING: Ignoring invalid distribution -illow (c:\\users\\kashy\\appdata\\roaming\\python\\python39\\site-packages)\n",
      "\n",
      "[notice] A new release of pip available: 22.2.2 -> 23.2.1\n",
      "[notice] To update, run: python.exe -m pip install --upgrade pip\n"
     ]
    }
   ],
   "source": [
    "!pip install insightface==0.2.1 moviepy onnxruntime-gpu==1.9.0"
   ]
  },
  {
   "cell_type": "code",
   "execution_count": 6,
   "id": "c978c577",
   "metadata": {},
   "outputs": [],
   "source": [
    "import cv2"
   ]
  },
  {
   "cell_type": "code",
   "execution_count": null,
   "id": "1bfbbb4e",
   "metadata": {},
   "outputs": [],
   "source": [
    "img=cv2.imread(\"testing\\\\img.jpg\")\n",
    "img=cv2.resize(img,(224,224))"
   ]
  },
  {
   "cell_type": "code",
   "execution_count": 4,
   "id": "03c57f9b",
   "metadata": {},
   "outputs": [
    {
     "name": "stdout",
     "output_type": "stream",
     "text": [
      "------------ Options -------------\n",
      "Arc_path: arcface_model/arcface_checkpoint.tar\n",
      "aspect_ratio: 1.0\n",
      "batchSize: 8\n",
      "checkpoints_dir: ./checkpoints\n",
      "cluster_path: features_clustered_010.npy\n",
      "crop_size: 224\n",
      "data_type: 32\n",
      "dataroot: ./datasets/cityscapes/\n",
      "display_winsize: 512\n",
      "engine: None\n",
      "export_onnx: None\n",
      "feat_num: 3\n",
      "fineSize: 512\n",
      "fp16: False\n",
      "gpu_ids: [0]\n",
      "how_many: 50\n",
      "id_thres: 0.03\n",
      "image_size: 224\n",
      "input_nc: 3\n",
      "instance_feat: False\n",
      "isTrain: False\n",
      "label_feat: False\n",
      "label_nc: 0\n",
      "latent_size: 512\n",
      "loadSize: 1024\n",
      "load_features: False\n",
      "local_rank: 0\n",
      "max_dataset_size: inf\n",
      "model: pix2pixHD\n",
      "multisepcific_dir: ./demo_file/multispecific\n",
      "nThreads: 2\n",
      "n_blocks_global: 6\n",
      "n_blocks_local: 3\n",
      "n_clusters: 10\n",
      "n_downsample_E: 4\n",
      "n_downsample_global: 3\n",
      "n_local_enhancers: 1\n",
      "name: people\n",
      "nef: 16\n",
      "netG: global\n",
      "ngf: 64\n",
      "niter_fix_global: 0\n",
      "no_flip: False\n",
      "no_instance: False\n",
      "no_simswaplogo: False\n",
      "norm: batch\n",
      "norm_G: spectralspadesyncbatch3x3\n",
      "ntest: inf\n",
      "onnx: None\n",
      "output_nc: 3\n",
      "output_path: output/\n",
      "phase: test\n",
      "pic_a_path: D:/testing/loki.jpg\n",
      "pic_b_path: D:/testing/nrf.jpg\n",
      "pic_specific_path: ./crop_224/zrf.jpg\n",
      "resize_or_crop: scale_width\n",
      "results_dir: ./results/\n",
      "semantic_nc: 3\n",
      "serial_batches: False\n",
      "temp_path: ./temp_results\n",
      "tf_log: False\n",
      "use_dropout: False\n",
      "use_encoded_image: False\n",
      "use_mask: False\n",
      "verbose: False\n",
      "video_path: ./demo_file/multi_people_1080p.mp4\n",
      "which_epoch: latest\n",
      "-------------- End ----------------\n"
     ]
    },
    {
     "name": "stderr",
     "output_type": "stream",
     "text": [
      "C:\\Users\\kashy\\AppData\\Roaming\\Python\\Python39\\site-packages\\torch\\serialization.py:786: SourceChangeWarning: source code of class 'torch.nn.parallel.data_parallel.DataParallel' has changed. Tried to save a patch, but couldn't create a writable file DataParallel.patch. Make sure it doesn't exist and your working directory is writable.\n",
      "  warnings.warn(msg, SourceChangeWarning)\n",
      "C:\\Users\\kashy\\AppData\\Roaming\\Python\\Python39\\site-packages\\torch\\serialization.py:786: SourceChangeWarning: source code of class 'torch.nn.modules.conv.Conv2d' has changed. Tried to save a patch, but couldn't create a writable file Conv2d.patch. Make sure it doesn't exist and your working directory is writable.\n",
      "  warnings.warn(msg, SourceChangeWarning)\n",
      "C:\\Users\\kashy\\AppData\\Roaming\\Python\\Python39\\site-packages\\torch\\serialization.py:786: SourceChangeWarning: source code of class 'torch.nn.modules.batchnorm.BatchNorm2d' has changed. Tried to save a patch, but couldn't create a writable file BatchNorm2d.patch. Make sure it doesn't exist and your working directory is writable.\n",
      "  warnings.warn(msg, SourceChangeWarning)\n",
      "C:\\Users\\kashy\\AppData\\Roaming\\Python\\Python39\\site-packages\\torch\\serialization.py:786: SourceChangeWarning: source code of class 'torch.nn.modules.activation.PReLU' has changed. Tried to save a patch, but couldn't create a writable file PReLU.patch. Make sure it doesn't exist and your working directory is writable.\n",
      "  warnings.warn(msg, SourceChangeWarning)\n",
      "C:\\Users\\kashy\\AppData\\Roaming\\Python\\Python39\\site-packages\\torch\\serialization.py:786: SourceChangeWarning: source code of class 'torch.nn.modules.pooling.MaxPool2d' has changed. Tried to save a patch, but couldn't create a writable file MaxPool2d.patch. Make sure it doesn't exist and your working directory is writable.\n",
      "  warnings.warn(msg, SourceChangeWarning)\n",
      "C:\\Users\\kashy\\AppData\\Roaming\\Python\\Python39\\site-packages\\torch\\serialization.py:786: SourceChangeWarning: source code of class 'torch.nn.modules.container.Sequential' has changed. Tried to save a patch, but couldn't create a writable file Sequential.patch. Make sure it doesn't exist and your working directory is writable.\n",
      "  warnings.warn(msg, SourceChangeWarning)\n",
      "C:\\Users\\kashy\\AppData\\Roaming\\Python\\Python39\\site-packages\\torch\\serialization.py:786: SourceChangeWarning: source code of class 'torch.nn.modules.pooling.AdaptiveAvgPool2d' has changed. Tried to save a patch, but couldn't create a writable file AdaptiveAvgPool2d.patch. Make sure it doesn't exist and your working directory is writable.\n",
      "  warnings.warn(msg, SourceChangeWarning)\n",
      "C:\\Users\\kashy\\AppData\\Roaming\\Python\\Python39\\site-packages\\torch\\serialization.py:786: SourceChangeWarning: source code of class 'torch.nn.modules.linear.Linear' has changed. Tried to save a patch, but couldn't create a writable file Linear.patch. Make sure it doesn't exist and your working directory is writable.\n",
      "  warnings.warn(msg, SourceChangeWarning)\n",
      "C:\\Users\\kashy\\AppData\\Roaming\\Python\\Python39\\site-packages\\torch\\serialization.py:786: SourceChangeWarning: source code of class 'torch.nn.modules.activation.Sigmoid' has changed. Tried to save a patch, but couldn't create a writable file Sigmoid.patch. Make sure it doesn't exist and your working directory is writable.\n",
      "  warnings.warn(msg, SourceChangeWarning)\n",
      "C:\\Users\\kashy\\AppData\\Roaming\\Python\\Python39\\site-packages\\torch\\serialization.py:786: SourceChangeWarning: source code of class 'torch.nn.modules.dropout.Dropout' has changed. Tried to save a patch, but couldn't create a writable file Dropout.patch. Make sure it doesn't exist and your working directory is writable.\n",
      "  warnings.warn(msg, SourceChangeWarning)\n",
      "C:\\Users\\kashy\\AppData\\Roaming\\Python\\Python39\\site-packages\\torch\\serialization.py:786: SourceChangeWarning: source code of class 'torch.nn.modules.batchnorm.BatchNorm1d' has changed. Tried to save a patch, but couldn't create a writable file BatchNorm1d.patch. Make sure it doesn't exist and your working directory is writable.\n",
      "  warnings.warn(msg, SourceChangeWarning)\n"
     ]
    }
   ],
   "source": [
    "!cd SimSwap & python test_one_image.py --name people --Arc_path arcface_model/arcface_checkpoint.tar --pic_a_path D:/testing/loki.jpg --pic_b_path D:/testing/nrf.jpg --output_path output/"
   ]
  },
  {
   "cell_type": "code",
   "execution_count": null,
   "id": "60827c3a",
   "metadata": {},
   "outputs": [],
   "source": [
    "cv2.imwrite(\"testing1\\\\img.jpg\",img)"
   ]
  },
  {
   "cell_type": "code",
   "execution_count": null,
   "id": "1b8e13ba",
   "metadata": {},
   "outputs": [],
   "source": [
    "img1=cv2.imread(\"repo\\\\nrf.jpg\")"
   ]
  },
  {
   "cell_type": "code",
   "execution_count": null,
   "id": "7f471950",
   "metadata": {},
   "outputs": [],
   "source": [
    "img2=cv2.resize(img1,(int(1600*0.54501),int(900*0.54501)))"
   ]
  },
  {
   "cell_type": "code",
   "execution_count": null,
   "id": "306bb845",
   "metadata": {},
   "outputs": [],
   "source": [
    "cv2.imshow(\"x\",img2)\n",
    "# cv2.imshow(\"t\",i)\n",
    "cv2.imwrite(\"D:\\\\testing\\\\output1.jpg\",img2)\n",
    "cv2.waitKey(0)"
   ]
  },
  {
   "cell_type": "code",
   "execution_count": 5,
   "id": "1b450d41",
   "metadata": {},
   "outputs": [],
   "source": [
    "i=img2[40:40+224,330:330+224]"
   ]
  },
  {
   "cell_type": "code",
   "execution_count": 2,
   "id": "27907777",
   "metadata": {},
   "outputs": [],
   "source": [
    "x=cv2.imread(\"C:\\\\Users\\\\kashy\\\\SimSwap\\\\outp\\\\result.jpg\")"
   ]
  },
  {
   "cell_type": "code",
   "execution_count": 3,
   "id": "40ca227d",
   "metadata": {},
   "outputs": [],
   "source": [
    "img2[40:40+224,327:327+224]=x"
   ]
  },
  {
   "cell_type": "code",
   "execution_count": 4,
   "id": "bc390198",
   "metadata": {},
   "outputs": [
    {
     "data": {
      "text/plain": [
       "True"
      ]
     },
     "execution_count": 4,
     "metadata": {},
     "output_type": "execute_result"
    }
   ],
   "source": [
    "cv2.imshow(\"result\",img2)"
   ]
  },
  {
   "cell_type": "code",
   "execution_count": null,
   "id": "3480396f",
   "metadata": {},
   "outputs": [],
   "source": []
  }
 ],
 "metadata": {
  "kernelspec": {
   "display_name": "Python 3 (ipykernel)",
   "language": "python",
   "name": "python3"
  },
  "language_info": {
   "codemirror_mode": {
    "name": "ipython",
    "version": 3
   },
   "file_extension": ".py",
   "mimetype": "text/x-python",
   "name": "python",
   "nbconvert_exporter": "python",
   "pygments_lexer": "ipython3",
   "version": "3.9.12"
  }
 },
 "nbformat": 4,
 "nbformat_minor": 5
}
